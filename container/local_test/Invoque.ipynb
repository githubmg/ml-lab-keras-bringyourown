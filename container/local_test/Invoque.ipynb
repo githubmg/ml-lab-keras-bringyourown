{
 "cells": [
  {
   "cell_type": "code",
   "execution_count": 23,
   "metadata": {},
   "outputs": [],
   "source": [
    "import requests\n",
    "import json\n",
    "import cv2"
   ]
  },
  {
   "cell_type": "code",
   "execution_count": 24,
   "metadata": {},
   "outputs": [],
   "source": [
    "addr = 'http://localhost:8080'\n",
    "test_url = addr + '/invocations'"
   ]
  },
  {
   "cell_type": "code",
   "execution_count": 25,
   "metadata": {},
   "outputs": [],
   "source": [
    "content_type = 'image/jpeg'\n",
    "headers = {'content-type': content_type}"
   ]
  },
  {
   "cell_type": "code",
   "execution_count": 26,
   "metadata": {},
   "outputs": [],
   "source": [
    "img = cv2.imread('test.jpeg')"
   ]
  },
  {
   "cell_type": "code",
   "execution_count": 27,
   "metadata": {},
   "outputs": [],
   "source": [
    "_, img_encoded = cv2.imencode('.jpg', img)"
   ]
  },
  {
   "cell_type": "code",
   "execution_count": 28,
   "metadata": {},
   "outputs": [],
   "source": [
    "response = requests.post(test_url, data=img_encoded.tostring(), headers=headers)"
   ]
  },
  {
   "cell_type": "code",
   "execution_count": 29,
   "metadata": {},
   "outputs": [
    {
     "name": "stdout",
     "output_type": "stream",
     "text": [
      "<Response [200]>\n"
     ]
    }
   ],
   "source": [
    "print (response)"
   ]
  },
  {
   "cell_type": "code",
   "execution_count": 30,
   "metadata": {},
   "outputs": [
    {
     "data": {
      "text/plain": [
       "u'\"[(493, 210, 0.8806182742118835, 0)]\"\\n\"[(483, 346, 0.802364706993103, 1)]\"\\n\"[(393, 332, 0.7045527696609497, 2)]\"\\n\"[(344, 481, 0.6902223825454712, 3)]\"\\n\"[(333, 615, 0.8389682173728943, 4)]\"\\n\"[(575, 357, 0.6511696577072144, 5)]\"\\n\"[(601, 505, 0.721181333065033, 6)]\"\\n\"[(610, 630, 0.8384584188461304, 7)]\"\\n\"[(407, 625, 0.424297958612442, 8)]\"\\n\"[(401, 824, 0.6429699659347534, 9)]\"\\n\"[(391, 1036, 0.5345415472984314, 10)]\"\\n\"[(535, 627, 0.3978096842765808, 11)]\"\\n\"[(530, 822, 0.6191512942314148, 12)]\"\\n\"[(532, 1036, 0.5944786071777344, 13)]\"\\n\"[(473, 193, 0.8970544934272766, 14)]\"\\n\"[(514, 196, 0.940936267375946, 15)]\"\\n\"[(445, 217, 0.6870424747467041, 16)]\"\\n\"[(538, 224, 0.6695055961608887, 17)]\"\\n'"
      ]
     },
     "execution_count": 30,
     "metadata": {},
     "output_type": "execute_result"
    }
   ],
   "source": [
    "response.text"
   ]
  },
  {
   "cell_type": "code",
   "execution_count": null,
   "metadata": {},
   "outputs": [],
   "source": []
  }
 ],
 "metadata": {
  "kernelspec": {
   "display_name": "conda_tensorflow_p27",
   "language": "python",
   "name": "conda_tensorflow_p27"
  },
  "language_info": {
   "codemirror_mode": {
    "name": "ipython",
    "version": 2
   },
   "file_extension": ".py",
   "mimetype": "text/x-python",
   "name": "python",
   "nbconvert_exporter": "python",
   "pygments_lexer": "ipython2",
   "version": "2.7.15"
  }
 },
 "nbformat": 4,
 "nbformat_minor": 2
}
