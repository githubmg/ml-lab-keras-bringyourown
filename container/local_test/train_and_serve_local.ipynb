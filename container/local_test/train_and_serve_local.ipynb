{
 "cells": [
  {
   "cell_type": "code",
   "execution_count": 1,
   "metadata": {},
   "outputs": [],
   "source": [
    "! ./train_local.sh keras-test"
   ]
  },
  {
   "cell_type": "code",
   "execution_count": 2,
   "metadata": {},
   "outputs": [
    {
     "name": "stdout",
     "output_type": "stream",
     "text": [
      "Starting the inference server with 8 workers.\n",
      "[2019-02-14 20:15:28 +0000] [12] [INFO] Starting gunicorn 19.9.0\n",
      "[2019-02-14 20:15:28 +0000] [12] [INFO] Listening at: unix:/tmp/gunicorn.sock (12)\n",
      "[2019-02-14 20:15:28 +0000] [12] [INFO] Using worker: gevent\n",
      "[2019-02-14 20:15:28 +0000] [17] [INFO] Booting worker with pid: 17\n",
      "[2019-02-14 20:15:28 +0000] [18] [INFO] Booting worker with pid: 18\n",
      "[2019-02-14 20:15:28 +0000] [19] [INFO] Booting worker with pid: 19\n",
      "[2019-02-14 20:15:28 +0000] [21] [INFO] Booting worker with pid: 21\n",
      "[2019-02-14 20:15:28 +0000] [37] [INFO] Booting worker with pid: 37\n",
      "[2019-02-14 20:15:28 +0000] [38] [INFO] Booting worker with pid: 38\n",
      "[2019-02-14 20:15:28 +0000] [39] [INFO] Booting worker with pid: 39\n",
      "[2019-02-14 20:15:28 +0000] [40] [INFO] Booting worker with pid: 40\n",
      "Using TensorFlow backend.\n",
      "Using TensorFlow backend.\n",
      "Using TensorFlow backend.\n",
      "Using TensorFlow backend.\n",
      "Using TensorFlow backend.\n",
      "Using TensorFlow backend.\n",
      "Using TensorFlow backend.\n",
      "Using TensorFlow backend.\n",
      "Input shape: (1, 736, 552, 3)\n",
      "2019-02-14 20:15:40.923425: I tensorflow/core/platform/cpu_feature_guard.cc:141] Your CPU supports instructions that this TensorFlow binary was not compiled to use: AVX2 AVX512F FMA\n",
      "get default graph\n",
      "use default graph\n",
      "172.17.0.1 - - [14/Feb/2019:20:15:49 +0000] \"POST /invocations HTTP/1.1\" 200 690 \"-\" \"python-requests/2.20.1\"\n",
      "^C\n",
      "Traceback (most recent call last):\n",
      "  File \"/opt/program/serve\", line 71, in <module>\n",
      "    start_server()\n",
      "  File \"/opt/program/serve\", line 61, in start_server\n",
      "    pid, _ = os.wait()\n",
      "KeyboardInterrupt\n"
     ]
    }
   ],
   "source": [
    "! ./serve_local.sh keras-test"
   ]
  },
  {
   "cell_type": "code",
   "execution_count": null,
   "metadata": {},
   "outputs": [],
   "source": []
  }
 ],
 "metadata": {
  "kernelspec": {
   "display_name": "conda_python3",
   "language": "python",
   "name": "conda_python3"
  },
  "language_info": {
   "codemirror_mode": {
    "name": "ipython",
    "version": 3
   },
   "file_extension": ".py",
   "mimetype": "text/x-python",
   "name": "python",
   "nbconvert_exporter": "python",
   "pygments_lexer": "ipython3",
   "version": "3.6.5"
  }
 },
 "nbformat": 4,
 "nbformat_minor": 2
}
